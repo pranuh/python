{
 "cells": [
  {
   "cell_type": "code",
   "execution_count": 3,
   "metadata": {},
   "outputs": [
    {
     "name": "stdout",
     "output_type": "stream",
     "text": [
      "condition was true\n"
     ]
    }
   ],
   "source": [
    "language = \"python\"\n",
    "\n",
    "if language== \"python\":\n",
    "    print(\"condition was true\")"
   ]
  },
  {
   "cell_type": "code",
   "execution_count": 4,
   "metadata": {},
   "outputs": [
    {
     "name": "stdout",
     "output_type": "stream",
     "text": [
      "condition was true\n"
     ]
    }
   ],
   "source": [
    "language = \"python\"\n",
    "\n",
    "if language== \"python\":\n",
    "    print(\"condition was true\")\n",
    "else:\n",
    "    print(\"no match\")"
   ]
  },
  {
   "cell_type": "code",
   "execution_count": 5,
   "metadata": {},
   "outputs": [
    {
     "name": "stdout",
     "output_type": "stream",
     "text": [
      "no match\n"
     ]
    }
   ],
   "source": [
    "language = \"java\"\n",
    "\n",
    "if language== \"python\":\n",
    "    print(\"condition was true\")\n",
    "else:\n",
    "    print(\"no match\")\n",
    "    "
   ]
  },
  {
   "cell_type": "code",
   "execution_count": 7,
   "metadata": {},
   "outputs": [
    {
     "name": "stdout",
     "output_type": "stream",
     "text": [
      "condition is java\n"
     ]
    }
   ],
   "source": [
    "language = \"java\"\n",
    "\n",
    "if language== \"python\":\n",
    "    print(\"condition was true\")\n",
    "elif language ==\"java\":\n",
    "    print(\"condition is java\")\n",
    "else:\n",
    "    print(\"no match\")\n"
   ]
  },
  {
   "cell_type": "code",
   "execution_count": 9,
   "metadata": {},
   "outputs": [
    {
     "name": "stdout",
     "output_type": "stream",
     "text": [
      "condition was true\n"
     ]
    }
   ],
   "source": [
    "if 3==3:\n",
    "    print(\"condition was true\")\n",
    "else:\n",
    "    print(\"no match\")"
   ]
  },
  {
   "cell_type": "code",
   "execution_count": 11,
   "metadata": {},
   "outputs": [
    {
     "name": "stdout",
     "output_type": "stream",
     "text": [
      "condition was true\n"
     ]
    }
   ],
   "source": [
    "if 2<=3:\n",
    "    print(\"condition was true\")\n",
    "else:\n",
    "    print(\"no match\")"
   ]
  },
  {
   "cell_type": "code",
   "execution_count": 17,
   "metadata": {},
   "outputs": [
    {
     "name": "stdout",
     "output_type": "stream",
     "text": [
      "admin page\n"
     ]
    }
   ],
   "source": [
    "user =\"admin\"\n",
    "logged_in= True\n",
    "\n",
    "if user ==\"admin\" and logged_in:\n",
    "    print(\"admin page\")\n",
    "else:\n",
    "    print(\"bad cred\")"
   ]
  },
  {
   "cell_type": "code",
   "execution_count": 19,
   "metadata": {},
   "outputs": [
    {
     "name": "stdout",
     "output_type": "stream",
     "text": [
      "bad cred\n"
     ]
    }
   ],
   "source": [
    "user =\"admin\"\n",
    "logged_in= False\n",
    "\n",
    "if user ==\"admin\" and logged_in:\n",
    "    print(\"admin page\")\n",
    "else:\n",
    "    print(\"bad cred\")"
   ]
  },
  {
   "cell_type": "code",
   "execution_count": 20,
   "metadata": {},
   "outputs": [
    {
     "name": "stdout",
     "output_type": "stream",
     "text": [
      "admin page\n"
     ]
    }
   ],
   "source": [
    "user =\"admin\"\n",
    "logged_in= True\n",
    "\n",
    "if user ==\"admin\" or logged_in:\n",
    "    print(\"admin page\")\n",
    "else:\n",
    "    print(\"bad cred\")"
   ]
  },
  {
   "cell_type": "code",
   "execution_count": 22,
   "metadata": {},
   "outputs": [
    {
     "name": "stdout",
     "output_type": "stream",
     "text": [
      "please log in\n"
     ]
    }
   ],
   "source": [
    "user =\"admin\"\n",
    "logged_in= False\n",
    "\n",
    "if not logged_in:       #not makes false to true\n",
    "    print(\"please log in\")\n",
    "else:\n",
    "    print(\"welcome\")"
   ]
  },
  {
   "cell_type": "code",
   "execution_count": 23,
   "metadata": {},
   "outputs": [
    {
     "name": "stdout",
     "output_type": "stream",
     "text": [
      "False\n"
     ]
    }
   ],
   "source": [
    "a=[1,2,3]\n",
    "b=[1,2,3]\n",
    "\n",
    "print(a is b)  #this is because of they have different id"
   ]
  },
  {
   "cell_type": "code",
   "execution_count": 24,
   "metadata": {},
   "outputs": [
    {
     "name": "stdout",
     "output_type": "stream",
     "text": [
      "2179966612488\n",
      "2179964777160\n"
     ]
    }
   ],
   "source": [
    "print(id(a))\n",
    "print(id(b))"
   ]
  },
  {
   "cell_type": "code",
   "execution_count": 27,
   "metadata": {},
   "outputs": [],
   "source": [
    "#false values\n",
    "#false\n",
    "#none\n",
    "#zero of any numeric type\n",
    "#any empty sequence. ex: \"\" , [] ,()\n",
    "#any empty mapping. ex; {}\n"
   ]
  },
  {
   "cell_type": "code",
   "execution_count": 30,
   "metadata": {},
   "outputs": [
    {
     "name": "stdout",
     "output_type": "stream",
     "text": [
      "evaluated to false\n",
      "evaluated to false\n",
      "evaluated to false\n"
     ]
    }
   ],
   "source": [
    "condition= False\n",
    "\n",
    "if condition:\n",
    "    print(\"evaluated to true\")\n",
    "else:\n",
    "    print(\"evaluated to false\")\n",
    "    \n",
    "condition= []\n",
    "\n",
    "if condition:\n",
    "    print(\"evaluated to true\")\n",
    "else:\n",
    "    print(\"evaluated to false\")\n",
    "\n",
    "condition= 0\n",
    "\n",
    "if condition:\n",
    "    print(\"evaluated to true\")\n",
    "else:\n",
    "    print(\"evaluated to false\")\n",
    "    \n",
    "    "
   ]
  },
  {
   "cell_type": "code",
   "execution_count": null,
   "metadata": {},
   "outputs": [],
   "source": []
  }
 ],
 "metadata": {
  "kernelspec": {
   "display_name": "Python 3",
   "language": "python",
   "name": "python3"
  },
  "language_info": {
   "codemirror_mode": {
    "name": "ipython",
    "version": 3
   },
   "file_extension": ".py",
   "mimetype": "text/x-python",
   "name": "python",
   "nbconvert_exporter": "python",
   "pygments_lexer": "ipython3",
   "version": "3.7.4"
  }
 },
 "nbformat": 4,
 "nbformat_minor": 2
}
