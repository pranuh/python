{
 "cells": [
  {
   "cell_type": "code",
   "execution_count": 1,
   "metadata": {},
   "outputs": [
    {
     "name": "stdout",
     "output_type": "stream",
     "text": [
      "{'name': 'pranay', 'age': '22', 'courses': ['python', 'adobexd']}\n"
     ]
    }
   ],
   "source": [
    "student={\"name\":\"pranay\",\"age\":\"22\",\"courses\":[\"python\",\"adobexd\"]}\n",
    "print(student)"
   ]
  },
  {
   "cell_type": "code",
   "execution_count": 5,
   "metadata": {},
   "outputs": [
    {
     "name": "stdout",
     "output_type": "stream",
     "text": [
      "pranay\n"
     ]
    }
   ],
   "source": [
    "print(student[\"name\"])"
   ]
  },
  {
   "cell_type": "code",
   "execution_count": 6,
   "metadata": {},
   "outputs": [
    {
     "ename": "KeyError",
     "evalue": "'sex'",
     "output_type": "error",
     "traceback": [
      "\u001b[1;31m---------------------------------------------------------------------------\u001b[0m",
      "\u001b[1;31mKeyError\u001b[0m                                  Traceback (most recent call last)",
      "\u001b[1;32m<ipython-input-6-6e2efe73dd5b>\u001b[0m in \u001b[0;36m<module>\u001b[1;34m\u001b[0m\n\u001b[1;32m----> 1\u001b[1;33m \u001b[0mprint\u001b[0m\u001b[1;33m(\u001b[0m\u001b[0mstudent\u001b[0m\u001b[1;33m[\u001b[0m\u001b[1;34m\"sex\"\u001b[0m\u001b[1;33m]\u001b[0m\u001b[1;33m)\u001b[0m\u001b[1;33m\u001b[0m\u001b[1;33m\u001b[0m\u001b[0m\n\u001b[0m",
      "\u001b[1;31mKeyError\u001b[0m: 'sex'"
     ]
    }
   ],
   "source": [
    "print(student[\"sex\"]) #entered a wrong key which was not mentioned"
   ]
  },
  {
   "cell_type": "code",
   "execution_count": 9,
   "metadata": {},
   "outputs": [
    {
     "name": "stdout",
     "output_type": "stream",
     "text": [
      "pranay\n",
      "None\n",
      "not found\n"
     ]
    }
   ],
   "source": [
    "#get method\n",
    "\n",
    "print(student.get(\"name\"))\n",
    "print(student.get(\"sex\"))\n",
    "print(student.get(\"sex\",\"not found\")) #we have added a string for the argument to change from none"
   ]
  },
  {
   "cell_type": "code",
   "execution_count": 15,
   "metadata": {},
   "outputs": [
    {
     "name": "stdout",
     "output_type": "stream",
     "text": [
      "{'name': 'pranay', 'age': '22', 'courses': ['python', 'adobexd'], 'phone': '6300256040'}\n"
     ]
    }
   ],
   "source": [
    "student={\"name\":\"pranay\",\"age\":\"22\",\"courses\":[\"python\",\"adobexd\"]}\n",
    "\n",
    "student[\"phone\"]=\"6300256040\" #this key is added to dict\n",
    "\n",
    "print(student)"
   ]
  },
  {
   "cell_type": "code",
   "execution_count": 16,
   "metadata": {},
   "outputs": [
    {
     "name": "stdout",
     "output_type": "stream",
     "text": [
      "{'name': 'chandra', 'age': '22', 'courses': ['python', 'adobexd'], 'phone': '6300256040'}\n"
     ]
    }
   ],
   "source": [
    "student[\"name\"]=\"chandra\" #here the key is updated\n",
    "print(student)"
   ]
  },
  {
   "cell_type": "code",
   "execution_count": 20,
   "metadata": {},
   "outputs": [
    {
     "name": "stdout",
     "output_type": "stream",
     "text": [
      "{'name': 'minnu', 'age': 12, 'courses': ['python', 'adobexd'], 'phone': 2344424}\n"
     ]
    }
   ],
   "source": [
    "#update method\n",
    "\n",
    "student={\"name\":\"pranay\",\"age\":\"22\",\"courses\":[\"python\",\"adobexd\"]}\n",
    "student.update({\"name\":\"minnu\",\"age\":12,\"phone\":2344424})\n",
    "                \n",
    "print(student)"
   ]
  },
  {
   "cell_type": "code",
   "execution_count": 27,
   "metadata": {},
   "outputs": [
    {
     "name": "stdout",
     "output_type": "stream",
     "text": [
      "{'name': 'minnu', 'age': 12, 'phone': 2344424}\n"
     ]
    }
   ],
   "source": [
    "#removing using pop method and del method\n",
    "\n",
    "del student[\"courses\"]\n",
    "print(student)"
   ]
  },
  {
   "cell_type": "code",
   "execution_count": 35,
   "metadata": {},
   "outputs": [
    {
     "name": "stdout",
     "output_type": "stream",
     "text": [
      "{'name': 'pranay', 'courses': ['python', 'adobexd']}\n"
     ]
    }
   ],
   "source": [
    "student={\"name\":\"pranay\",\"age\":\"22\",\"courses\":[\"python\",\"adobexd\"]}\n",
    "student.pop(\"age\")\n",
    "print(student)"
   ]
  },
  {
   "cell_type": "code",
   "execution_count": 39,
   "metadata": {},
   "outputs": [
    {
     "name": "stdout",
     "output_type": "stream",
     "text": [
      "{}\n",
      "pranay\n"
     ]
    }
   ],
   "source": [
    "#in order to show popped value \n",
    "\n",
    "name=student.pop(\"name\")\n",
    "\n",
    "print(student)\n",
    "print(name)"
   ]
  },
  {
   "cell_type": "code",
   "execution_count": 46,
   "metadata": {},
   "outputs": [
    {
     "name": "stdout",
     "output_type": "stream",
     "text": [
      "3\n",
      "dict_keys(['name', 'age', 'courses'])\n",
      "dict_values(['pranay', '22', ['python', 'adobexd']])\n",
      "dict_items([('name', 'pranay'), ('age', '22'), ('courses', ['python', 'adobexd'])])\n"
     ]
    }
   ],
   "source": [
    "student={\"name\":\"pranay\",\"age\":\"22\",\"courses\":[\"python\",\"adobexd\"]}\n",
    "\n",
    "print(len(student))\n",
    "print(student.keys())\n",
    "print(student.values())\n",
    "print(student.items())"
   ]
  },
  {
   "cell_type": "code",
   "execution_count": 50,
   "metadata": {},
   "outputs": [
    {
     "name": "stdout",
     "output_type": "stream",
     "text": [
      "name\n",
      "age\n",
      "courses\n"
     ]
    }
   ],
   "source": [
    "#loop through\n",
    "\n",
    "for key in student:\n",
    "    print(key)"
   ]
  },
  {
   "cell_type": "code",
   "execution_count": 58,
   "metadata": {},
   "outputs": [
    {
     "name": "stdout",
     "output_type": "stream",
     "text": [
      "name pranay\n",
      "age 22\n",
      "courses ['python', 'adobexd']\n"
     ]
    }
   ],
   "source": [
    "for key,value in student.items():\n",
    "    print(key,value)\n"
   ]
  },
  {
   "cell_type": "code",
   "execution_count": null,
   "metadata": {},
   "outputs": [],
   "source": []
  }
 ],
 "metadata": {
  "kernelspec": {
   "display_name": "Python 3",
   "language": "python",
   "name": "python3"
  },
  "language_info": {
   "codemirror_mode": {
    "name": "ipython",
    "version": 3
   },
   "file_extension": ".py",
   "mimetype": "text/x-python",
   "name": "python",
   "nbconvert_exporter": "python",
   "pygments_lexer": "ipython3",
   "version": "3.7.4"
  }
 },
 "nbformat": 4,
 "nbformat_minor": 2
}
